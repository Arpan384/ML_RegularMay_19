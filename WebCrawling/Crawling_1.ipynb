{
 "cells": [
  {
   "cell_type": "code",
   "execution_count": 1,
   "metadata": {},
   "outputs": [],
   "source": [
    "import bs4\n",
    "# BeautifulSoup 4\n",
    "import urllib.request as url"
   ]
  },
  {
   "cell_type": "code",
   "execution_count": 2,
   "metadata": {},
   "outputs": [],
   "source": [
    "http = url.urlopen(\"https://www.flipkart.com/jbl-t500-wired-headset-mic/p/itmfa2ppawcuuazg?pid=ACCFA2PPHEGDHN5H&lid=LSTACCFA2PPHEGDHN5HW0JOWW&marketplace=FLIPKART&srno=s_1_4&otracker=AS_QueryStore_HistoryAutoSuggest_0_0&otracker1=AS_QueryStore_HistoryAutoSuggest_0_0&fm=SEARCH&iid=ecf82c2c-580f-4795-b665-03679117719b.ACCFA2PPHEGDHN5H.SEARCH&ppt=SearchPage&ppn=Search&ssid=w22x9mloi80000001558087657125&qH=0e8eaa0d16605fd0\")"
   ]
  },
  {
   "cell_type": "code",
   "execution_count": 3,
   "metadata": {},
   "outputs": [
    {
     "data": {
      "text/plain": [
       "<http.client.HTTPResponse at 0x23f70818128>"
      ]
     },
     "execution_count": 3,
     "metadata": {},
     "output_type": "execute_result"
    }
   ],
   "source": [
    "http"
   ]
  },
  {
   "cell_type": "code",
   "execution_count": 4,
   "metadata": {},
   "outputs": [],
   "source": [
    "page = bs4.BeautifulSoup(http)"
   ]
  },
  {
   "cell_type": "code",
   "execution_count": 6,
   "metadata": {},
   "outputs": [],
   "source": [
    "title = page.find('span', class_='_35KyD6')"
   ]
  },
  {
   "cell_type": "code",
   "execution_count": 7,
   "metadata": {},
   "outputs": [
    {
     "data": {
      "text/plain": [
       "'JBL T500 Wired Headset with Mic\\xa0\\xa0(Black, Over the Ear)'"
      ]
     },
     "execution_count": 7,
     "metadata": {},
     "output_type": "execute_result"
    }
   ],
   "source": [
    "title.text"
   ]
  },
  {
   "cell_type": "code",
   "execution_count": 10,
   "metadata": {},
   "outputs": [],
   "source": [
    "li = page.findAll('li', class_='_2-riNZ')"
   ]
  },
  {
   "cell_type": "code",
   "execution_count": 12,
   "metadata": {},
   "outputs": [
    {
     "name": "stdout",
     "output_type": "stream",
     "text": [
      "With Mic:Yes\n",
      "Connector type: 3.5\n",
      "Immersive audio experience that only JBL Signature Sound can provide\n",
      "In-line one button remote with microphone enables hands-free calling, allowing you to focus on your workout.\n",
      "lightweight materials and foldable design make it convenient anywhere & anytime you want music\n",
      "Durable and flat cable keeps the cable hassle and tangle free while on the go.\n",
      "Siri or Google Now are just a button away: activate the voice assistant by pushing the remote button.\n",
      "Customer needs to Call Harman Customer Care Toll Free Number (1800 102 0525) to Register any Complaint on the Product.\n"
     ]
    }
   ],
   "source": [
    "for item in li:\n",
    "    print(item.text)"
   ]
  },
  {
   "cell_type": "code",
   "execution_count": null,
   "metadata": {},
   "outputs": [],
   "source": []
  }
 ],
 "metadata": {
  "kernelspec": {
   "display_name": "Python 3",
   "language": "python",
   "name": "python3"
  },
  "language_info": {
   "codemirror_mode": {
    "name": "ipython",
    "version": 3
   },
   "file_extension": ".py",
   "mimetype": "text/x-python",
   "name": "python",
   "nbconvert_exporter": "python",
   "pygments_lexer": "ipython3",
   "version": "3.7.3"
  }
 },
 "nbformat": 4,
 "nbformat_minor": 2
}
